{
  "nbformat": 4,
  "nbformat_minor": 0,
  "metadata": {
    "colab": {
      "name": "Exploratory Data Analysis(EDA)",
      "provenance": [],
      "collapsed_sections": []
    },
    "kernelspec": {
      "name": "python3",
      "display_name": "Python 3"
    },
    "language_info": {
      "name": "python"
    }
  },
  "cells": [
    {
      "cell_type": "markdown",
      "source": [
        "Exploring the data sets using different tools and technique  to desire insights from the data sets using data mining, Ml algorithm, Deep learning."
      ],
      "metadata": {
        "id": "eb2TeARHSZsV"
      }
    },
    {
      "cell_type": "markdown",
      "source": [
        "Data is collection of facts, numbers, words,measurements,observations.data comes from different sources like images,videos,texts,etc.\n",
        "data are structured and unstructured .\n",
        "data are raw facts which have 2 different types be qualititive is description  or quantitive is numerical.\n",
        "qualititive data:\"hello how are you\"\n",
        "quantitve which is 2 types. discrete which is countable and continuous which is measureable."
      ],
      "metadata": {
        "id": "EZt2nLSESxUH"
      }
    },
    {
      "cell_type": "markdown",
      "source": [
        "MEASURE OF CENTRAL .\n",
        "\n",
        "*   mean\n",
        "*   median\n",
        "*   node\n",
        "\n",
        "\n",
        "\n",
        "\n"
      ],
      "metadata": {
        "id": "lLY8z644U8wq"
      }
    },
    {
      "cell_type": "code",
      "source": [
        "import numpy as np\n",
        "import pandas as pd\n",
        "import seaborn as sns\n",
        "import matplotlib.pyplot as plt\n"
      ],
      "metadata": {
        "id": "RCe31GfCSq4K"
      },
      "execution_count": null,
      "outputs": []
    },
    {
      "cell_type": "markdown",
      "source": [
        "mean"
      ],
      "metadata": {
        "id": "pja49IrFVzGu"
      }
    },
    {
      "cell_type": "code",
      "source": [
        "x=np.array([10,20,30,40,50])\n",
        "total=np.sum(x)\n",
        "total"
      ],
      "metadata": {
        "colab": {
          "base_uri": "https://localhost:8080/"
        },
        "id": "zVIiNvR9Vtsd",
        "outputId": "6585a85a-2392-481d-a1ec-43853166555e"
      },
      "execution_count": null,
      "outputs": [
        {
          "output_type": "execute_result",
          "data": {
            "text/plain": [
              "150"
            ]
          },
          "metadata": {},
          "execution_count": 6
        }
      ]
    },
    {
      "cell_type": "code",
      "source": [
        "avg_val=total/len(x)\n",
        "avg_val"
      ],
      "metadata": {
        "colab": {
          "base_uri": "https://localhost:8080/"
        },
        "id": "6w3m8_bCWAOO",
        "outputId": "90cb1f01-b3c5-4808-a012-a3225ae24b95"
      },
      "execution_count": null,
      "outputs": [
        {
          "output_type": "execute_result",
          "data": {
            "text/plain": [
              "30.0"
            ]
          },
          "metadata": {},
          "execution_count": 7
        }
      ]
    },
    {
      "cell_type": "code",
      "source": [
        "mean_val=np.mean(x)\n",
        "print(\"average:\",mean_val)"
      ],
      "metadata": {
        "colab": {
          "base_uri": "https://localhost:8080/"
        },
        "id": "etXgv770V_XP",
        "outputId": "b989122e-9c32-43bf-f2ab-fcb450723435"
      },
      "execution_count": null,
      "outputs": [
        {
          "output_type": "stream",
          "name": "stdout",
          "text": [
            "average: 30.0\n"
          ]
        }
      ]
    },
    {
      "cell_type": "code",
      "source": [
        "age=np.array([16,17,15,18,19,16,15,16])\n",
        "avg_age=np.mean(age)\n",
        "avg_age"
      ],
      "metadata": {
        "colab": {
          "base_uri": "https://localhost:8080/"
        },
        "id": "aavglMeXWOMl",
        "outputId": "3012932c-5fff-43fc-9ddf-a55cb0559868"
      },
      "execution_count": null,
      "outputs": [
        {
          "output_type": "execute_result",
          "data": {
            "text/plain": [
              "16.5"
            ]
          },
          "metadata": {},
          "execution_count": 13
        }
      ]
    },
    {
      "cell_type": "code",
      "source": [
        "#avg not working on this case\n",
        "income=np.array([10000,15000,20000,18000,17000,1000000])"
      ],
      "metadata": {
        "id": "_sDDJCzVWt88"
      },
      "execution_count": null,
      "outputs": []
    },
    {
      "cell_type": "code",
      "source": [
        "avg_income=np.mean(income)\n",
        "print(\"avg_income:\",avg_income)"
      ],
      "metadata": {
        "colab": {
          "base_uri": "https://localhost:8080/"
        },
        "id": "Ov7F8OcKXEoX",
        "outputId": "b400503f-a1dd-4576-a91b-eeaa33491e2a"
      },
      "execution_count": null,
      "outputs": [
        {
          "output_type": "stream",
          "name": "stdout",
          "text": [
            "avg_income: 180000.0\n"
          ]
        }
      ]
    },
    {
      "cell_type": "code",
      "source": [
        "#For resolving above proble of outliers, we have to  use median instead of mean\n",
        "x=np.array([10,9,11,13,15,18,21,20])\n",
        "x.sort()\n"
      ],
      "metadata": {
        "id": "p0v_Iad3XMPm"
      },
      "execution_count": null,
      "outputs": []
    },
    {
      "cell_type": "code",
      "source": [
        "median=(len(x)+1)/2\n",
        "median\n"
      ],
      "metadata": {
        "colab": {
          "base_uri": "https://localhost:8080/"
        },
        "id": "nFgn18b_advT",
        "outputId": "e37f1e77-bb5f-4740-bb53-b6bb5da5f347"
      },
      "execution_count": null,
      "outputs": [
        {
          "output_type": "execute_result",
          "data": {
            "text/plain": [
              "4.5"
            ]
          },
          "metadata": {},
          "execution_count": 26
        }
      ]
    },
    {
      "cell_type": "code",
      "source": [
        "x[int(median)]"
      ],
      "metadata": {
        "colab": {
          "base_uri": "https://localhost:8080/"
        },
        "id": "gSLWPiqGbNQF",
        "outputId": "d2e75b24-42ce-42e5-b635-61348982e7be"
      },
      "execution_count": null,
      "outputs": [
        {
          "output_type": "execute_result",
          "data": {
            "text/plain": [
              "15"
            ]
          },
          "metadata": {},
          "execution_count": 27
        }
      ]
    },
    {
      "cell_type": "code",
      "source": [
        "median=int((len(x)+1)/2)\n",
        "# median.sort()"
      ],
      "metadata": {
        "id": "ssjOs8EnbXSF"
      },
      "execution_count": null,
      "outputs": []
    },
    {
      "cell_type": "code",
      "source": [
        "print(\"the median value:\",median)"
      ],
      "metadata": {
        "colab": {
          "base_uri": "https://localhost:8080/"
        },
        "id": "HO0zX637b2Vu",
        "outputId": "a359a936-26a0-4637-da37-95e4fbb58c88"
      },
      "execution_count": null,
      "outputs": [
        {
          "output_type": "stream",
          "name": "stdout",
          "text": [
            "the median value: 4\n"
          ]
        }
      ]
    },
    {
      "cell_type": "code",
      "source": [
        "x=np.array([10,9,11,13,15,18,20,21,22])\n",
        "x"
      ],
      "metadata": {
        "colab": {
          "base_uri": "https://localhost:8080/"
        },
        "id": "iwF94E5JcMe-",
        "outputId": "93dd6556-c6bf-499c-cec4-68e179345ae1"
      },
      "execution_count": null,
      "outputs": [
        {
          "output_type": "execute_result",
          "data": {
            "text/plain": [
              "array([10,  9, 11, 13, 15, 18, 20, 21, 22])"
            ]
          },
          "metadata": {},
          "execution_count": 31
        }
      ]
    },
    {
      "cell_type": "markdown",
      "source": [
        "Below is for even"
      ],
      "metadata": {
        "id": "dng_fPQ9eWYX"
      }
    },
    {
      "cell_type": "code",
      "source": [
        "mid1=int((len(x)+1)/2)\n",
        "mid1"
      ],
      "metadata": {
        "colab": {
          "base_uri": "https://localhost:8080/"
        },
        "id": "jLClMDG4cmVJ",
        "outputId": "0a962468-ac90-441a-d2d6-028154d9e394"
      },
      "execution_count": null,
      "outputs": [
        {
          "output_type": "execute_result",
          "data": {
            "text/plain": [
              "5"
            ]
          },
          "metadata": {},
          "execution_count": 33
        }
      ]
    },
    {
      "cell_type": "code",
      "source": [
        "mid2=int(np.ceil(len(x)+1)/2)\n",
        "mid2"
      ],
      "metadata": {
        "colab": {
          "base_uri": "https://localhost:8080/"
        },
        "id": "Ou5_4OCrdKOz",
        "outputId": "ca60164f-dde2-4baa-ac77-196854311bca"
      },
      "execution_count": null,
      "outputs": [
        {
          "output_type": "execute_result",
          "data": {
            "text/plain": [
              "5"
            ]
          },
          "metadata": {},
          "execution_count": 34
        }
      ]
    },
    {
      "cell_type": "code",
      "source": [
        "median=np.median([x[mid1],x[mid2]])\n",
        "median"
      ],
      "metadata": {
        "colab": {
          "base_uri": "https://localhost:8080/"
        },
        "id": "LfHhhyMbczwU",
        "outputId": "1c46b41c-d4ee-4e9c-e9cc-6c253ec16607"
      },
      "execution_count": null,
      "outputs": [
        {
          "output_type": "execute_result",
          "data": {
            "text/plain": [
              "18.0"
            ]
          },
          "metadata": {},
          "execution_count": 35
        }
      ]
    },
    {
      "cell_type": "code",
      "source": [
        "median_val=np.median(x)\n",
        "median_val"
      ],
      "metadata": {
        "colab": {
          "base_uri": "https://localhost:8080/"
        },
        "id": "OtQjJIwWdT1J",
        "outputId": "77614fb9-0d4d-4721-cc84-cf81de77c135"
      },
      "execution_count": null,
      "outputs": [
        {
          "output_type": "execute_result",
          "data": {
            "text/plain": [
              "15.0"
            ]
          },
          "metadata": {},
          "execution_count": 37
        }
      ]
    },
    {
      "cell_type": "code",
      "source": [
        "median_val2=np.median(median)\n",
        "median_val2"
      ],
      "metadata": {
        "colab": {
          "base_uri": "https://localhost:8080/"
        },
        "id": "Pf4WMy8edbnC",
        "outputId": "bed161b6-225e-4506-a96f-0210df698a7a"
      },
      "execution_count": null,
      "outputs": [
        {
          "output_type": "execute_result",
          "data": {
            "text/plain": [
              "18.0"
            ]
          },
          "metadata": {},
          "execution_count": 39
        }
      ]
    },
    {
      "cell_type": "code",
      "source": [
        "income=np.array([10000,15000,20000,18000,17000,1000000])\n",
        "np.mean(income)"
      ],
      "metadata": {
        "colab": {
          "base_uri": "https://localhost:8080/"
        },
        "id": "_vXtoBC0dxo_",
        "outputId": "46b4c350-32a5-49c0-b786-805530d3e23a"
      },
      "execution_count": null,
      "outputs": [
        {
          "output_type": "execute_result",
          "data": {
            "text/plain": [
              "180000.0"
            ]
          },
          "metadata": {},
          "execution_count": 40
        }
      ]
    },
    {
      "cell_type": "code",
      "source": [
        "# median use for searchine central value which provide us a more accurate value\n",
        "np.median(income)"
      ],
      "metadata": {
        "colab": {
          "base_uri": "https://localhost:8080/"
        },
        "id": "390KB9yVext2",
        "outputId": "1ab17dd0-8b82-4425-a90e-58fb09204d0f"
      },
      "execution_count": null,
      "outputs": [
        {
          "output_type": "execute_result",
          "data": {
            "text/plain": [
              "17500.0"
            ]
          },
          "metadata": {},
          "execution_count": 43
        }
      ]
    },
    {
      "cell_type": "markdown",
      "source": [
        "MODE"
      ],
      "metadata": {
        "id": "U7hRSn_AfZcg"
      }
    },
    {
      "cell_type": "code",
      "source": [
        "from scipy import stats"
      ],
      "metadata": {
        "id": "hIKqby1Re3Fu"
      },
      "execution_count": null,
      "outputs": []
    },
    {
      "cell_type": "code",
      "source": [
        "a=np.random.randint(1,10,50)\n",
        "a"
      ],
      "metadata": {
        "colab": {
          "base_uri": "https://localhost:8080/"
        },
        "id": "K7iaTJUYfdjO",
        "outputId": "38223a72-9f53-4bf6-a195-7416b3ba1a31"
      },
      "execution_count": null,
      "outputs": [
        {
          "output_type": "execute_result",
          "data": {
            "text/plain": [
              "array([3, 9, 5, 3, 2, 8, 1, 2, 8, 3, 4, 6, 8, 4, 7, 2, 5, 8, 3, 5, 8, 9,\n",
              "       7, 7, 6, 8, 1, 7, 1, 3, 9, 3, 9, 3, 1, 1, 5, 7, 3, 9, 1, 3, 9, 5,\n",
              "       6, 5, 2, 9, 2, 5])"
            ]
          },
          "metadata": {},
          "execution_count": 45
        }
      ]
    },
    {
      "cell_type": "code",
      "source": [
        "m=stats.mode(a)\n",
        "m"
      ],
      "metadata": {
        "colab": {
          "base_uri": "https://localhost:8080/"
        },
        "id": "v-laTM4Efjfw",
        "outputId": "17dccd0c-be1e-46f9-8449-fb8a5467a29b"
      },
      "execution_count": null,
      "outputs": [
        {
          "output_type": "execute_result",
          "data": {
            "text/plain": [
              "ModeResult(mode=array([3]), count=array([9]))"
            ]
          },
          "metadata": {},
          "execution_count": 48
        }
      ]
    },
    {
      "cell_type": "code",
      "source": [
        "m[0]"
      ],
      "metadata": {
        "colab": {
          "base_uri": "https://localhost:8080/"
        },
        "id": "LFT8wWztfouB",
        "outputId": "ea9620c1-203b-4be6-ded3-6b2b61d41d8b"
      },
      "execution_count": null,
      "outputs": [
        {
          "output_type": "execute_result",
          "data": {
            "text/plain": [
              "array([3])"
            ]
          },
          "metadata": {},
          "execution_count": 49
        }
      ]
    },
    {
      "cell_type": "code",
      "source": [
        "m[1]"
      ],
      "metadata": {
        "colab": {
          "base_uri": "https://localhost:8080/"
        },
        "id": "xRBYXVhzf1o9",
        "outputId": "46a2487e-bd99-491f-f712-fc3a4342296d"
      },
      "execution_count": null,
      "outputs": [
        {
          "output_type": "execute_result",
          "data": {
            "text/plain": [
              "array([9])"
            ]
          },
          "metadata": {},
          "execution_count": 50
        }
      ]
    },
    {
      "cell_type": "markdown",
      "source": [
        "OUTLIERS\n",
        "they can change the mean a lot , so we ca can either not use  or use the median or mode instead. we exploring more by using quartile"
      ],
      "metadata": {
        "id": "iFdzR5r6gA29"
      }
    },
    {
      "cell_type": "code",
      "source": [
        "income=np.array([10000,15000,20000,18000,17000,1000000])"
      ],
      "metadata": {
        "id": "NtygXNyYf3i1"
      },
      "execution_count": null,
      "outputs": []
    },
    {
      "cell_type": "markdown",
      "source": [
        "Meadurement of spread:\n",
        "\n",
        "\n",
        "how data sets are distributed\n",
        "\n",
        "1.   range\n",
        "2.   quartile\n",
        "1.   variance\n",
        "2.   standard derivation\n",
        "\n",
        "\n",
        "\n"
      ],
      "metadata": {
        "id": "tf5IKnrqg6Iq"
      }
    },
    {
      "cell_type": "markdown",
      "source": [
        "RANGE"
      ],
      "metadata": {
        "id": "aIcSdSgbhYHC"
      }
    },
    {
      "cell_type": "code",
      "source": [
        "x=np.arange(10)\n",
        "x"
      ],
      "metadata": {
        "colab": {
          "base_uri": "https://localhost:8080/"
        },
        "id": "u4il9NrPf5XM",
        "outputId": "dfe9b261-4aae-4331-943f-22334b005e90"
      },
      "execution_count": null,
      "outputs": [
        {
          "output_type": "execute_result",
          "data": {
            "text/plain": [
              "array([0, 1, 2, 3, 4, 5, 6, 7, 8, 9])"
            ]
          },
          "metadata": {},
          "execution_count": 52
        }
      ]
    },
    {
      "cell_type": "code",
      "source": [
        "low=a.min()\n",
        "low"
      ],
      "metadata": {
        "colab": {
          "base_uri": "https://localhost:8080/"
        },
        "id": "3dhgSmm0hbdi",
        "outputId": "3cb3b096-cb26-40ab-b988-19abcb1d3992"
      },
      "execution_count": null,
      "outputs": [
        {
          "output_type": "execute_result",
          "data": {
            "text/plain": [
              "1"
            ]
          },
          "metadata": {},
          "execution_count": 54
        }
      ]
    },
    {
      "cell_type": "code",
      "source": [
        "high=a.max()\n",
        "high"
      ],
      "metadata": {
        "colab": {
          "base_uri": "https://localhost:8080/"
        },
        "id": "SCKyAH0Bhfyd",
        "outputId": "0ecba1d5-e0e4-46bf-94c7-32a9886d4942"
      },
      "execution_count": null,
      "outputs": [
        {
          "output_type": "execute_result",
          "data": {
            "text/plain": [
              "9"
            ]
          },
          "metadata": {},
          "execution_count": 55
        }
      ]
    },
    {
      "cell_type": "code",
      "source": [
        "rng=high-low\n",
        "print(rng)"
      ],
      "metadata": {
        "colab": {
          "base_uri": "https://localhost:8080/"
        },
        "id": "ASEFzrhuhlIX",
        "outputId": "47b6e649-d1e6-43b1-c4fa-2973fd8ab23f"
      },
      "execution_count": null,
      "outputs": [
        {
          "output_type": "stream",
          "name": "stdout",
          "text": [
            "8\n"
          ]
        }
      ]
    },
    {
      "cell_type": "code",
      "source": [
        "a1=np.array([2,7,8,10,20])\n",
        "a1"
      ],
      "metadata": {
        "colab": {
          "base_uri": "https://localhost:8080/"
        },
        "id": "1EgvJcjRhor4",
        "outputId": "c18a7489-d606-4d57-d26b-1a82a32da32b"
      },
      "execution_count": null,
      "outputs": [
        {
          "output_type": "execute_result",
          "data": {
            "text/plain": [
              "array([ 2,  7,  8, 10, 20])"
            ]
          },
          "metadata": {},
          "execution_count": 57
        }
      ]
    },
    {
      "cell_type": "code",
      "source": [
        "high=a1.min()"
      ],
      "metadata": {
        "id": "tH_OQmJhhwtM"
      },
      "execution_count": null,
      "outputs": []
    },
    {
      "cell_type": "code",
      "source": [
        "low=a1.max()"
      ],
      "metadata": {
        "id": "AlKUUuJqh0P7"
      },
      "execution_count": null,
      "outputs": []
    },
    {
      "cell_type": "code",
      "source": [
        "rng1=high-low"
      ],
      "metadata": {
        "id": "YxAs4L-mh3Sz"
      },
      "execution_count": null,
      "outputs": []
    },
    {
      "cell_type": "code",
      "source": [
        "a1=np.array([2,7,8,10,20,10000])\n",
        "a1"
      ],
      "metadata": {
        "colab": {
          "base_uri": "https://localhost:8080/"
        },
        "id": "qyjJadodh6xR",
        "outputId": "2de4879a-a07e-46a8-fd4e-ce1c3fe9001b"
      },
      "execution_count": null,
      "outputs": [
        {
          "output_type": "execute_result",
          "data": {
            "text/plain": [
              "array([    2,     7,     8,    10,    20, 10000])"
            ]
          },
          "metadata": {},
          "execution_count": 61
        }
      ]
    },
    {
      "cell_type": "code",
      "source": [
        "high=a1.max()\n",
        "low=a1.min()"
      ],
      "metadata": {
        "id": "PHI7SZARiB2s"
      },
      "execution_count": null,
      "outputs": []
    },
    {
      "cell_type": "code",
      "source": [
        "rng=high-low\n",
        "rng"
      ],
      "metadata": {
        "colab": {
          "base_uri": "https://localhost:8080/"
        },
        "id": "oWBDsoXfiL4Z",
        "outputId": "4f4460e3-0cf9-4ebe-8ed6-051a47426333"
      },
      "execution_count": null,
      "outputs": [
        {
          "output_type": "execute_result",
          "data": {
            "text/plain": [
              "9998"
            ]
          },
          "metadata": {},
          "execution_count": 64
        }
      ]
    },
    {
      "cell_type": "code",
      "source": [
        ""
      ],
      "metadata": {
        "id": "SB5ueKTBiP88"
      },
      "execution_count": null,
      "outputs": []
    },
    {
      "cell_type": "markdown",
      "source": [
        "STANDARD DEVIATION\n",
        "\n",
        "\n",
        "HOW SPREAD OUT NUMBERS ARE"
      ],
      "metadata": {
        "id": "-EmMntJFiVPT"
      }
    },
    {
      "cell_type": "markdown",
      "source": [
        "VARIANCE"
      ],
      "metadata": {
        "id": "sC3lE5khjRmQ"
      }
    },
    {
      "cell_type": "code",
      "source": [
        "heights=np.array([600,470,170,430,300])\n",
        "mu=np.mean(heights)\n",
        "print(mu)"
      ],
      "metadata": {
        "colab": {
          "base_uri": "https://localhost:8080/"
        },
        "id": "cc5AKbdsify7",
        "outputId": "5d08b476-f1a8-4971-a79f-373085d5d7c1"
      },
      "execution_count": null,
      "outputs": [
        {
          "output_type": "stream",
          "name": "stdout",
          "text": [
            "394.0\n"
          ]
        }
      ]
    },
    {
      "cell_type": "code",
      "source": [
        "res=(heights-mu)\n",
        "res"
      ],
      "metadata": {
        "colab": {
          "base_uri": "https://localhost:8080/"
        },
        "id": "4Kv320qRjeX7",
        "outputId": "7e5502a3-b912-4e3c-8d44-f2fb2e22d126"
      },
      "execution_count": null,
      "outputs": [
        {
          "output_type": "execute_result",
          "data": {
            "text/plain": [
              "array([ 206.,   76., -224.,   36.,  -94.])"
            ]
          },
          "metadata": {},
          "execution_count": 67
        }
      ]
    },
    {
      "cell_type": "code",
      "source": [
        "res1=np.square(res)\n",
        "res1"
      ],
      "metadata": {
        "colab": {
          "base_uri": "https://localhost:8080/"
        },
        "id": "yAGuoxJ-jk8l",
        "outputId": "f553e795-771b-44da-9216-ec65c3d83dcd"
      },
      "execution_count": null,
      "outputs": [
        {
          "output_type": "execute_result",
          "data": {
            "text/plain": [
              "array([42436.,  5776., 50176.,  1296.,  8836.])"
            ]
          },
          "metadata": {},
          "execution_count": 68
        }
      ]
    },
    {
      "cell_type": "code",
      "source": [
        "var=np.mean(res1)\n",
        "var"
      ],
      "metadata": {
        "colab": {
          "base_uri": "https://localhost:8080/"
        },
        "id": "2h5qGdq_ju35",
        "outputId": "e3ddad89-bf9d-439b-e82b-7d45723db814"
      },
      "execution_count": null,
      "outputs": [
        {
          "output_type": "execute_result",
          "data": {
            "text/plain": [
              "21704.0"
            ]
          },
          "metadata": {},
          "execution_count": 70
        }
      ]
    },
    {
      "cell_type": "markdown",
      "source": [
        "STANDARD DEVIATIOn which  is square of VARIANCE"
      ],
      "metadata": {
        "id": "QWmjBaFFj-tr"
      }
    },
    {
      "cell_type": "code",
      "source": [
        "std=np.sqrt(var)\n",
        "std"
      ],
      "metadata": {
        "colab": {
          "base_uri": "https://localhost:8080/"
        },
        "id": "53uVON3fj0KR",
        "outputId": "ffd8404b-c646-4a36-ba59-c577eb99b76f"
      },
      "execution_count": null,
      "outputs": [
        {
          "output_type": "execute_result",
          "data": {
            "text/plain": [
              "147.32277488562318"
            ]
          },
          "metadata": {},
          "execution_count": 71
        }
      ]
    },
    {
      "cell_type": "markdown",
      "source": [
        "STD  calculation using NumPy"
      ],
      "metadata": {
        "id": "Y6Zcq8pdk5fG"
      }
    },
    {
      "cell_type": "code",
      "source": [
        "np.var(heights)"
      ],
      "metadata": {
        "colab": {
          "base_uri": "https://localhost:8080/"
        },
        "id": "wuV8_nVgkN-I",
        "outputId": "85de2fb9-d95b-4c55-b187-32fa9b2154df"
      },
      "execution_count": null,
      "outputs": [
        {
          "output_type": "execute_result",
          "data": {
            "text/plain": [
              "21704.0"
            ]
          },
          "metadata": {},
          "execution_count": 72
        }
      ]
    },
    {
      "cell_type": "code",
      "source": [
        "np.std(heights)"
      ],
      "metadata": {
        "colab": {
          "base_uri": "https://localhost:8080/"
        },
        "id": "9k_PZ4D2kePC",
        "outputId": "2b61fca6-5b23-49b2-c2f1-eb0f2554a280"
      },
      "execution_count": null,
      "outputs": [
        {
          "output_type": "execute_result",
          "data": {
            "text/plain": [
              "147.32277488562318"
            ]
          },
          "metadata": {},
          "execution_count": 73
        }
      ]
    },
    {
      "cell_type": "code",
      "source": [
        ""
      ],
      "metadata": {
        "id": "GD6tnHzQkgz_"
      },
      "execution_count": null,
      "outputs": []
    }
  ]
}