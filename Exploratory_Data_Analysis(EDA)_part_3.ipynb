{
  "cells": [
    {
      "cell_type": "code",
      "execution_count": null,
      "metadata": {
        "colab": {
          "base_uri": "https://localhost:8080/",
          "height": 88
        },
        "id": "rKmwWaXuow6Z",
        "outputId": "63b7e463-ec2d-4467-b2a2-117973e79d2f"
      },
      "outputs": [
        {
          "data": {
            "application/vnd.google.colaboratory.intrinsic+json": {
              "type": "string"
            },
            "text/plain": [
              "'12.90 12.51 10.22 17.25 12.66 9.49 9.06 8.99 14.16 5.19 13.79 10.48 13.85 9.13 18.16 15.88 9.50 20.54 17.75 6.56 11.40 12.71 13.62 15.15 13.44 17.52 17.08 7.55 13.18 8.29 23.61 4.87 8.35 6.90 6.62 6.87 9.47 7.20 26.01 16.00 7.28 12.35 13.41 12.80 6.12 6.81 8.69 11.20 14.53 25.17 15.51 11.63 15.56 11.06 11.25 6.49 11.59 14.64 16.06 11.30 9.50 14.08 14.20 15.54 14.23 17.80 9.15 11.53 12.08 28.37 8.05 10.40 10.40 3.24 11.78 7.21 16.77 9.99 16.40 13.29 28.53 9.91 8.99 12.25 10.65 16.22 6.14 7.49 8.86 16.74 13.21 4.81 12.06 21.21 16.50 13.26 11.52 19.85 6.13 5.6'"
            ]
          },
          "execution_count": 1,
          "metadata": {},
          "output_type": "execute_result"
        }
      ],
      "source": [
        "# below 100\n",
        "data = \"12.90 12.51 10.22 17.25 12.66 9.49 9.06 8.99 14.16 5.19 13.79 10.48 13.85 9.13 18.16 15.88 9.50 20.54 17.75 6.56 11.40 12.71 13.62 15.15 13.44 17.52 17.08 7.55 13.18 8.29 23.61 4.87 8.35 6.90 6.62 6.87 9.47 7.20 26.01 16.00 7.28 12.35 13.41 12.80 6.12 6.81 8.69 11.20 14.53 25.17 15.51 11.63 15.56 11.06 11.25 6.49 11.59 14.64 16.06 11.30 9.50 14.08 14.20 15.54 14.23 17.80 9.15 11.53 12.08 28.37 8.05 10.40 10.40 3.24 11.78 7.21 16.77 9.99 16.40 13.29 28.53 9.91 8.99 12.25 10.65 16.22 6.14 7.49 8.86 16.74 13.21 4.81 12.06 21.21 16.50 13.26 11.52 19.85 6.13 5.6\"\n",
        "data"
      ]
    },
    {
      "cell_type": "code",
      "execution_count": null,
      "metadata": {
        "colab": {
          "base_uri": "https://localhost:8080/"
        },
        "id": "fe0I9rm3pRYg",
        "outputId": "8df0911a-cfc0-475d-b761-80109cf0a165"
      },
      "outputs": [
        {
          "data": {
            "text/plain": [
              "['12.90',\n",
              " '12.51',\n",
              " '10.22',\n",
              " '17.25',\n",
              " '12.66',\n",
              " '9.49',\n",
              " '9.06',\n",
              " '8.99',\n",
              " '14.16',\n",
              " '5.19',\n",
              " '13.79',\n",
              " '10.48',\n",
              " '13.85',\n",
              " '9.13',\n",
              " '18.16',\n",
              " '15.88',\n",
              " '9.50',\n",
              " '20.54',\n",
              " '17.75',\n",
              " '6.56',\n",
              " '11.40',\n",
              " '12.71',\n",
              " '13.62',\n",
              " '15.15',\n",
              " '13.44',\n",
              " '17.52',\n",
              " '17.08',\n",
              " '7.55',\n",
              " '13.18',\n",
              " '8.29',\n",
              " '23.61',\n",
              " '4.87',\n",
              " '8.35',\n",
              " '6.90',\n",
              " '6.62',\n",
              " '6.87',\n",
              " '9.47',\n",
              " '7.20',\n",
              " '26.01',\n",
              " '16.00',\n",
              " '7.28',\n",
              " '12.35',\n",
              " '13.41',\n",
              " '12.80',\n",
              " '6.12',\n",
              " '6.81',\n",
              " '8.69',\n",
              " '11.20',\n",
              " '14.53',\n",
              " '25.17',\n",
              " '15.51',\n",
              " '11.63',\n",
              " '15.56',\n",
              " '11.06',\n",
              " '11.25',\n",
              " '6.49',\n",
              " '11.59',\n",
              " '14.64',\n",
              " '16.06',\n",
              " '11.30',\n",
              " '9.50',\n",
              " '14.08',\n",
              " '14.20',\n",
              " '15.54',\n",
              " '14.23',\n",
              " '17.80',\n",
              " '9.15',\n",
              " '11.53',\n",
              " '12.08',\n",
              " '28.37',\n",
              " '8.05',\n",
              " '10.40',\n",
              " '10.40',\n",
              " '3.24',\n",
              " '11.78',\n",
              " '7.21',\n",
              " '16.77',\n",
              " '9.99',\n",
              " '16.40',\n",
              " '13.29',\n",
              " '28.53',\n",
              " '9.91',\n",
              " '8.99',\n",
              " '12.25',\n",
              " '10.65',\n",
              " '16.22',\n",
              " '6.14',\n",
              " '7.49',\n",
              " '8.86',\n",
              " '16.74',\n",
              " '13.21',\n",
              " '4.81',\n",
              " '12.06',\n",
              " '21.21',\n",
              " '16.50',\n",
              " '13.26',\n",
              " '11.52',\n",
              " '19.85',\n",
              " '6.13',\n",
              " '5.6']"
            ]
          },
          "execution_count": 2,
          "metadata": {},
          "output_type": "execute_result"
        }
      ],
      "source": [
        "import numpy as np\n",
        "import pandas as pd\n",
        "import matplotlib.pyplot as plt\n",
        "import seaborn as sns\n",
        "data1=data.split()\n",
        "data1\n"
      ]
    },
    {
      "cell_type": "markdown",
      "metadata": {
        "id": "WT0qoXL6q4lC"
      },
      "source": [
        "Data preprocessing part  data"
      ]
    },
    {
      "cell_type": "code",
      "execution_count": null,
      "metadata": {
        "colab": {
          "base_uri": "https://localhost:8080/"
        },
        "id": "fZW-uLNMqXBv",
        "outputId": "b8eb24dd-980a-4504-970f-ca63f569bcb2"
      },
      "outputs": [
        {
          "data": {
            "text/plain": [
              "str"
            ]
          },
          "execution_count": 3,
          "metadata": {},
          "output_type": "execute_result"
        }
      ],
      "source": [
        "type(data)"
      ]
    },
    {
      "cell_type": "code",
      "execution_count": null,
      "metadata": {
        "id": "Sk0W8TWrq_kn"
      },
      "outputs": [],
      "source": [
        "data1=data.split(\" \")"
      ]
    },
    {
      "cell_type": "code",
      "execution_count": null,
      "metadata": {
        "colab": {
          "base_uri": "https://localhost:8080/"
        },
        "id": "3KofTvAgrdVk",
        "outputId": "c478aad0-e698-4ecc-dc99-0eeecc7c4495"
      },
      "outputs": [
        {
          "data": {
            "text/plain": [
              "array(['12.90', '12.51', '10.22', '17.25', '12.66', '9.49', '9.06',\n",
              "       '8.99', '14.16', '5.19', '13.79', '10.48', '13.85', '9.13',\n",
              "       '18.16', '15.88', '9.50', '20.54', '17.75', '6.56', '11.40',\n",
              "       '12.71', '13.62', '15.15', '13.44', '17.52', '17.08', '7.55',\n",
              "       '13.18', '8.29', '23.61', '4.87', '8.35', '6.90', '6.62', '6.87',\n",
              "       '9.47', '7.20', '26.01', '16.00', '7.28', '12.35', '13.41',\n",
              "       '12.80', '6.12', '6.81', '8.69', '11.20', '14.53', '25.17',\n",
              "       '15.51', '11.63', '15.56', '11.06', '11.25', '6.49', '11.59',\n",
              "       '14.64', '16.06', '11.30', '9.50', '14.08', '14.20', '15.54',\n",
              "       '14.23', '17.80', '9.15', '11.53', '12.08', '28.37', '8.05',\n",
              "       '10.40', '10.40', '3.24', '11.78', '7.21', '16.77', '9.99',\n",
              "       '16.40', '13.29', '28.53', '9.91', '8.99', '12.25', '10.65',\n",
              "       '16.22', '6.14', '7.49', '8.86', '16.74', '13.21', '4.81', '12.06',\n",
              "       '21.21', '16.50', '13.26', '11.52', '19.85', '6.13', '5.6'],\n",
              "      dtype='<U5')"
            ]
          },
          "execution_count": 5,
          "metadata": {},
          "output_type": "execute_result"
        }
      ],
      "source": [
        "convert=np.array(data1)\n",
        "convert"
      ]
    },
    {
      "cell_type": "code",
      "execution_count": null,
      "metadata": {
        "colab": {
          "base_uri": "https://localhost:8080/",
          "height": 217
        },
        "id": "L-rp5JA5rkF2",
        "outputId": "0c9c1593-d045-4f8d-c369-84633a8d6e9b"
      },
      "outputs": [
        {
          "ename": "ValueError",
          "evalue": "ignored",
          "output_type": "error",
          "traceback": [
            "\u001b[0;31m---------------------------------------------------------------------------\u001b[0m",
            "\u001b[0;31mValueError\u001b[0m                                Traceback (most recent call last)",
            "\u001b[0;32m<ipython-input-6-f36821e8da41>\u001b[0m in \u001b[0;36m<module>\u001b[0;34m()\u001b[0m\n\u001b[0;32m----> 1\u001b[0;31m \u001b[0mcheck\u001b[0m\u001b[0;34m=\u001b[0m\u001b[0mnp\u001b[0m\u001b[0;34m.\u001b[0m\u001b[0marray\u001b[0m\u001b[0;34m(\u001b[0m\u001b[0mdata\u001b[0m\u001b[0;34m,\u001b[0m\u001b[0mdtype\u001b[0m\u001b[0;34m=\u001b[0m\u001b[0mnp\u001b[0m\u001b[0;34m.\u001b[0m\u001b[0mfloat32\u001b[0m\u001b[0;34m)\u001b[0m\u001b[0;34m\u001b[0m\u001b[0;34m\u001b[0m\u001b[0m\n\u001b[0m",
            "\u001b[0;31mValueError\u001b[0m: could not convert string to float: '12.90 12.51 10.22 17.25 12.66 9.49 9.06 8.99 14.16 5.19 13.79 10.48 13.85 9.13 18.16 15.88 9.50 20.54 17.75 6.56 11.40 12.71 13.62 15.15 13.44 17.52 17.08 7.55 13.18 8.29 23.61 4.87 8.35 6.90 6.62 6.87 9.47 7.20 26.01 16.00 7.28 12.35 13.41 12.80 6.12 6.81 8.69 11.20 14.53 25.17 15.51 11.63 15.56 11.06 11.25 6.49 11.59 14.64 16.06 11.30 9.50 14.08 14.20 15.54 14.23 17.80 9.15 11.53 12.08 28.37 8.05 10.40 10.40 3.24 11.78 7.21 16.77 9.99 16.40 13.29 28.53 9.91 8.99 12.25 10.65 16.22 6.14 7.49 8.86 16.74 13.21 4.81 12.06 21.21 16.50 13.26 11.52 19.85 6.13 5.6'"
          ]
        }
      ],
      "source": [
        "check=np.array(data,dtype=np.float32)"
      ]
    },
    {
      "cell_type": "code",
      "execution_count": null,
      "metadata": {
        "id": "SkxSuFUmr5YN"
      },
      "outputs": [],
      "source": [
        "np.mean(check)"
      ]
    },
    {
      "cell_type": "code",
      "execution_count": null,
      "metadata": {
        "colab": {
          "background_save": true
        },
        "id": "XjZvevv1tj43",
        "outputId": "5fb40148-f308-4353-dbe4-9296f791cba1"
      },
      "outputs": [
        {
          "ename": "NameError",
          "evalue": "ignored",
          "output_type": "error",
          "traceback": [
            "\u001b[0;31m---------------------------------------------------------------------------\u001b[0m",
            "\u001b[0;31mNameError\u001b[0m                                 Traceback (most recent call last)",
            "\u001b[0;32m<ipython-input-8-7922423258cc>\u001b[0m in \u001b[0;36m<module>\u001b[0;34m()\u001b[0m\n\u001b[1;32m      1\u001b[0m \u001b[0;31m# formula\u001b[0m\u001b[0;34m\u001b[0m\u001b[0;34m\u001b[0m\u001b[0;34m\u001b[0m\u001b[0m\n\u001b[0;32m----> 2\u001b[0;31m \u001b[0mbins\u001b[0m\u001b[0;34m=\u001b[0m\u001b[0mnp\u001b[0m\u001b[0;34m.\u001b[0m\u001b[0mceil\u001b[0m\u001b[0;34m(\u001b[0m\u001b[0mnp\u001b[0m\u001b[0;34m.\u001b[0m\u001b[0mlog\u001b[0m\u001b[0;34m(\u001b[0m\u001b[0mlen\u001b[0m\u001b[0;34m(\u001b[0m\u001b[0mcheck\u001b[0m\u001b[0;34m)\u001b[0m\u001b[0;34m)\u001b[0m\u001b[0;34m/\u001b[0m\u001b[0mnp\u001b[0m\u001b[0;34m.\u001b[0m\u001b[0mlog\u001b[0m\u001b[0;34m(\u001b[0m\u001b[0;36m2\u001b[0m\u001b[0;34m)\u001b[0m\u001b[0;34m)\u001b[0m\u001b[0;34m\u001b[0m\u001b[0;34m\u001b[0m\u001b[0m\n\u001b[0m\u001b[1;32m      3\u001b[0m \u001b[0mbins\u001b[0m\u001b[0;34m\u001b[0m\u001b[0;34m\u001b[0m\u001b[0m\n",
            "\u001b[0;31mNameError\u001b[0m: name 'check' is not defined"
          ]
        }
      ],
      "source": [
        "# formula\n",
        "bins=np.ceil(np.log(len(check))/np.log(2))\n",
        "bins"
      ]
    },
    {
      "cell_type": "code",
      "execution_count": null,
      "metadata": {
        "id": "rwGsqPg0tsgB"
      },
      "outputs": [],
      "source": [
        "ax=sns.histplot(x=check,bins=int(bins))\n",
        "ax"
      ]
    },
    {
      "cell_type": "markdown",
      "metadata": {
        "id": "tN6SLY97vLyq"
      },
      "source": [
        "BoxPlot"
      ]
    },
    {
      "cell_type": "code",
      "execution_count": null,
      "metadata": {
        "id": "NqUMTY_btx7X"
      },
      "outputs": [],
      "source": [
        "x=np.arange(1,100)\n",
        "x"
      ]
    },
    {
      "cell_type": "code",
      "execution_count": null,
      "metadata": {
        "id": "pqzJp7c_wplm"
      },
      "outputs": [],
      "source": [
        "ax=sns.boxplot(x=x)\n",
        "ax"
      ]
    },
    {
      "cell_type": "code",
      "execution_count": null,
      "metadata": {
        "id": "y6uYgVfmwuA5"
      },
      "outputs": [],
      "source": [
        "q1,q2,q3=np.percentile(x,[25,50,75])"
      ]
    },
    {
      "cell_type": "code",
      "execution_count": null,
      "metadata": {
        "id": "YAXIk8lRw4cM"
      },
      "outputs": [],
      "source": [
        "q1,q2,q3"
      ]
    },
    {
      "cell_type": "code",
      "execution_count": null,
      "metadata": {
        "id": "z9n_Iw90w6ay"
      },
      "outputs": [],
      "source": [
        "x.min()"
      ]
    },
    {
      "cell_type": "code",
      "execution_count": null,
      "metadata": {
        "id": "McqsAEj-w99Q"
      },
      "outputs": [],
      "source": [
        "x.max()"
      ]
    },
    {
      "cell_type": "markdown",
      "metadata": {
        "id": "UmJrOk_txxqF"
      },
      "source": [
        "Correlation"
      ]
    },
    {
      "cell_type": "markdown",
      "metadata": {
        "id": "MQ5zrtbYySPo"
      },
      "source": [
        "univariate analysis =analyze single variable,\n",
        "bivariate=analyze two varialble,\n",
        "correlation=used to understand or denote relationship between two variables."
      ]
    },
    {
      "cell_type": "code",
      "execution_count": null,
      "metadata": {
        "id": "gP2YP3O7w_-3"
      },
      "outputs": [],
      "source": [
        "hours =np.array([1,2,3,4,5,6])\n",
        "power"
      ]
    },
    {
      "cell_type": "code",
      "execution_count": null,
      "metadata": {
        "id": "1qIeqIp_2yBH"
      },
      "outputs": [],
      "source": [
        "score=np.array([0.35,0.45,0.55,0.65,0.85,0.90])\n",
        "score"
      ]
    },
    {
      "cell_type": "code",
      "execution_count": null,
      "metadata": {
        "id": "uT-gLsrZ3JYX"
      },
      "outputs": [],
      "source": [
        "ax=sns.scatterplot(x=power,y=score)\n",
        "ax"
      ]
    },
    {
      "cell_type": "code",
      "execution_count": null,
      "metadata": {
        "id": "pk_saVLT4JM8"
      },
      "outputs": [],
      "source": [
        "np.corrcoef(hours,score)"
      ]
    },
    {
      "cell_type": "code",
      "execution_count": null,
      "metadata": {
        "id": "U4aIxuPI4ZGI"
      },
      "outputs": [],
      "source": [
        "[0][1]"
      ]
    },
    {
      "cell_type": "code",
      "execution_count": null,
      "metadata": {
        "id": "H8gZN6gn4bEi"
      },
      "outputs": [],
      "source": [
        "people=np.array([1,2,3,4,10])\n",
        "time=np.array([12,6,5,2,1])"
      ]
    },
    {
      "cell_type": "code",
      "execution_count": null,
      "metadata": {
        "id": "Iu5QQt804nFV"
      },
      "outputs": [],
      "source": [
        "ax=sns.scatter(people,time)\n",
        "ax"
      ]
    },
    {
      "cell_type": "code",
      "execution_count": null,
      "metadata": {
        "id": "v54tzd8i4rdQ"
      },
      "outputs": [],
      "source": [
        "np.corrcoef(people,time)\n",
        "#[0]of[1]\n"
      ]
    },
    {
      "cell_type": "code",
      "execution_count": null,
      "metadata": {
        "id": "hC1UO_8d5DL5"
      },
      "outputs": [],
      "source": [
        "ax=sns.heatmap(people,time)\n",
        "ax"
      ]
    },
    {
      "cell_type": "code",
      "execution_count": null,
      "metadata": {
        "id": "kuh8Jvu-6PL6"
      },
      "outputs": [],
      "source": [
        "ax=sns.heatmap(np.corrcoef(people,time))\n",
        "ax"
      ]
    },
    {
      "cell_type": "code",
      "execution_count": null,
      "metadata": {
        "id": "sFYXduDi5dNg"
      },
      "outputs": [],
      "source": [
        "ax=sns.heatmap(np.corrcoef(people,time),annot=True)\n",
        "ax"
      ]
    },
    {
      "cell_type": "code",
      "execution_count": null,
      "metadata": {
        "id": "dQxvkU5V5i1f"
      },
      "outputs": [],
      "source": [
        "ax=sns.heatmap(np.corrcoef(hours,score),annot=False,cmap=\"ylgb\")\n",
        "ax"
      ]
    },
    {
      "cell_type": "code",
      "execution_count": null,
      "metadata": {
        "id": "U3dNzx4E58Iw"
      },
      "outputs": [],
      "source": [
        ""
      ]
    }
  ],
  "metadata": {
    "colab": {
      "collapsed_sections": [],
      "name": "Exploratory Data Analysis(EDA)  part 3",
      "provenance": []
    },
    "kernelspec": {
      "display_name": "Python 3",
      "name": "python3"
    },
    "language_info": {
      "name": "python"
    }
  },
  "nbformat": 4,
  "nbformat_minor": 0
}