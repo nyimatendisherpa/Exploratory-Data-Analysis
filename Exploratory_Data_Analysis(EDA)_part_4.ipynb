{
  "nbformat": 4,
  "nbformat_minor": 0,
  "metadata": {
    "colab": {
      "name": "Exploratory Data Analysis(EDA)  part 4",
      "provenance": []
    },
    "kernelspec": {
      "name": "python3",
      "display_name": "Python 3"
    },
    "language_info": {
      "name": "python"
    }
  },
  "cells": [
    {
      "cell_type": "markdown",
      "source": [
        "**Regression **\n",
        "\n",
        "\n",
        "1.   Dependent variable\n",
        "2.   independent Variable\n",
        "\n"
      ],
      "metadata": {
        "id": "5tmAEQfbDui1"
      }
    },
    {
      "cell_type": "code",
      "execution_count": null,
      "metadata": {
        "id": "hUVq2ZlMC2hY"
      },
      "outputs": [],
      "source": [
        "import numpy as np\n",
        "import pandas as pd\n",
        "import matplotlib.pyplot as plt\n",
        "import seaborn as sns"
      ]
    },
    {
      "cell_type": "markdown",
      "source": [
        ""
      ],
      "metadata": {
        "id": "1Kt63Iw0PSS4"
      }
    },
    {
      "cell_type": "code",
      "source": [
        "hours=np.array([1,2,3,4,5,6])\n",
        "score=np.array([0.35,0.45,0.55,0.65,0.85,0.90])"
      ],
      "metadata": {
        "id": "E73g1FJmFaCb"
      },
      "execution_count": null,
      "outputs": []
    },
    {
      "cell_type": "code",
      "source": [
        "#in regression we are trting to search best fitting line through these points to understand association between these points.\n",
        "plt.scatter(x=hours,y=score)\n",
        "plt.show()"
      ],
      "metadata": {
        "colab": {
          "base_uri": "https://localhost:8080/",
          "height": 265
        },
        "id": "Yv9sLgyKGBiJ",
        "outputId": "0988983b-faf0-4e3d-efdb-5faa0227e158"
      },
      "execution_count": null,
      "outputs": [
        {
          "output_type": "display_data",
          "data": {
            "image/png": "[encoded data removed]",
            "text/plain": [
              "<Figure size 432x288 with 1 Axes>"
            ]
          },
          "metadata": {
            "needs_background": "light"
          }
        }
      ]
    },
    {
      "cell_type": "code",
      "source": [
        "slope,intercept=np.polyfit(hours,score,deg=1)"
      ],
      "metadata": {
        "id": "SIyKTGQIGn50"
      },
      "execution_count": null,
      "outputs": []
    },
    {
      "cell_type": "code",
      "source": [
        "slope"
      ],
      "metadata": {
        "colab": {
          "base_uri": "https://localhost:8080/"
        },
        "id": "UATHIcbyHdDY",
        "outputId": "1977e2e9-1544-4c5f-91cc-33a42910f0ae"
      },
      "execution_count": null,
      "outputs": [
        {
          "output_type": "execute_result",
          "data": {
            "text/plain": [
              "0.11571428571428571"
            ]
          },
          "metadata": {},
          "execution_count": 7
        }
      ]
    },
    {
      "cell_type": "code",
      "source": [
        "intercept"
      ],
      "metadata": {
        "colab": {
          "base_uri": "https://localhost:8080/"
        },
        "id": "cTVqca7PHedK",
        "outputId": "b9d118a2-d450-43c8-eeb0-f9efdd45cd0b"
      },
      "execution_count": null,
      "outputs": [
        {
          "output_type": "execute_result",
          "data": {
            "text/plain": [
              "0.22000000000000006"
            ]
          },
          "metadata": {},
          "execution_count": 8
        }
      ]
    },
    {
      "cell_type": "code",
      "source": [
        "# calculate of st line y=mx+c\n",
        "line=slope*hours+intercept\n",
        "line"
      ],
      "metadata": {
        "colab": {
          "base_uri": "https://localhost:8080/"
        },
        "id": "ggshHnfdHgSY",
        "outputId": "5fac93d7-9efd-4138-ae08-120012b03727"
      },
      "execution_count": null,
      "outputs": [
        {
          "output_type": "execute_result",
          "data": {
            "text/plain": [
              "array([0.33571429, 0.45142857, 0.56714286, 0.68285714, 0.79857143,\n",
              "       0.91428571])"
            ]
          },
          "metadata": {},
          "execution_count": 9
        }
      ]
    },
    {
      "cell_type": "code",
      "source": [
        "plt.plot(hours,line)\n",
        "plt.scatter(hours,score)\n",
        "plt.xlabel('hours')\n",
        "plt.ylabel('score')\n",
        "plt.show"
      ],
      "metadata": {
        "colab": {
          "base_uri": "https://localhost:8080/",
          "height": 296
        },
        "id": "in9nTT74H7jV",
        "outputId": "f70893c1-5a01-4a2c-b6e4-f069e8dfadab"
      },
      "execution_count": null,
      "outputs": [
        {
          "output_type": "execute_result",
          "data": {
            "text/plain": [
              "<function matplotlib.pyplot.show>"
            ]
          },
          "metadata": {},
          "execution_count": 13
        },
        {
          "output_type": "display_data",
          "data": {
            "image/png": "[encoded data removed]",
            "text/plain": [
              "<Figure size 432x288 with 1 Axes>"
            ]
          },
          "metadata": {
            "needs_background": "light"
          }
        }
      ]
    },
    {
      "cell_type": "code",
      "source": [
        "people=np.array([1,2,3,4,10])\n",
        "time=np.array([13,3,4,5,2])"
      ],
      "metadata": {
        "id": "tGcjdDb9IGup"
      },
      "execution_count": null,
      "outputs": []
    },
    {
      "cell_type": "code",
      "source": [
        "plt.scatter(people,time)"
      ],
      "metadata": {
        "colab": {
          "base_uri": "https://localhost:8080/",
          "height": 282
        },
        "id": "bz7RhiwpKitg",
        "outputId": "488046cb-d324-4fa8-c625-a6b1304f757f"
      },
      "execution_count": null,
      "outputs": [
        {
          "output_type": "execute_result",
          "data": {
            "text/plain": [
              "<matplotlib.collections.PathCollection at 0x7f6edd56e990>"
            ]
          },
          "metadata": {},
          "execution_count": 15
        },
        {
          "output_type": "display_data",
          "data": {
            "image/png": "[encoded data removed]",
            "text/plain": [
              "<Figure size 432x288 with 1 Axes>"
            ]
          },
          "metadata": {
            "needs_background": "light"
          }
        }
      ]
    },
    {
      "cell_type": "code",
      "source": [
        "slope,intercept=np.polyfit(people,time,deg=1)"
      ],
      "metadata": {
        "id": "aht0fEKCKmri"
      },
      "execution_count": null,
      "outputs": []
    },
    {
      "cell_type": "code",
      "source": [
        "slope"
      ],
      "metadata": {
        "colab": {
          "base_uri": "https://localhost:8080/"
        },
        "id": "AQlyoteWK6MD",
        "outputId": "fb6c5b77-ba90-4311-c903-56551990d216"
      },
      "execution_count": null,
      "outputs": [
        {
          "output_type": "execute_result",
          "data": {
            "text/plain": [
              "-0.7399999999999998"
            ]
          },
          "metadata": {},
          "execution_count": 17
        }
      ]
    },
    {
      "cell_type": "code",
      "source": [
        "intercept"
      ],
      "metadata": {
        "colab": {
          "base_uri": "https://localhost:8080/"
        },
        "id": "qU0ptUT3K7ra",
        "outputId": "e961a481-f7a8-4326-e988-9e1fbec98483"
      },
      "execution_count": null,
      "outputs": [
        {
          "output_type": "execute_result",
          "data": {
            "text/plain": [
              "8.359999999999998"
            ]
          },
          "metadata": {},
          "execution_count": 18
        }
      ]
    },
    {
      "cell_type": "code",
      "source": [
        "lines=slope*people+intercept\n",
        "lines"
      ],
      "metadata": {
        "colab": {
          "base_uri": "https://localhost:8080/"
        },
        "id": "JuwRKOV8K90k",
        "outputId": "b4b8c041-edf2-455e-deb8-89785f3bb5ca"
      },
      "execution_count": null,
      "outputs": [
        {
          "output_type": "execute_result",
          "data": {
            "text/plain": [
              "array([7.62, 6.88, 6.14, 5.4 , 0.96])"
            ]
          },
          "metadata": {},
          "execution_count": 25
        }
      ]
    },
    {
      "cell_type": "code",
      "source": [
        "plt.plot(people,lines,color=\"blue\")\n",
        "plt.scatter(people,time,color=\"red\")\n",
        "plt.xlabel(\"people\")\n",
        "plt.ylabel(\"time\")\n"
      ],
      "metadata": {
        "colab": {
          "base_uri": "https://localhost:8080/",
          "height": 296
        },
        "id": "Umux96zNLNMi",
        "outputId": "62ed623d-3870-42ad-a168-712af6eadb1f"
      },
      "execution_count": null,
      "outputs": [
        {
          "output_type": "execute_result",
          "data": {
            "text/plain": [
              "Text(0, 0.5, 'time')"
            ]
          },
          "metadata": {},
          "execution_count": 26
        },
        {
          "output_type": "display_data",
          "data": {
            "image/png": "[encoded data removed]",
            "text/plain": [
              "<Figure size 432x288 with 1 Axes>"
            ]
          },
          "metadata": {
            "needs_background": "light"
          }
        }
      ]
    },
    {
      "cell_type": "code",
      "source": [
        "tip_df=sns.load_dataset('tips')"
      ],
      "metadata": {
        "id": "wgB8lL0gLehu"
      },
      "execution_count": null,
      "outputs": []
    },
    {
      "cell_type": "code",
      "source": [
        "tip_df.head(2)"
      ],
      "metadata": {
        "colab": {
          "base_uri": "https://localhost:8080/",
          "height": 112
        },
        "id": "aaDENmLfMry6",
        "outputId": "3cdd80ca-baa5-45fc-a4da-93900ce83b93"
      },
      "execution_count": null,
      "outputs": [
        {
          "output_type": "execute_result",
          "data": {
            "text/html": [
              "\n",
              "  <div id=\"df-7d99e400-f31d-4f67-a570-48f9cf409f40\">\n",
              "    <div class=\"colab-df-container\">\n",
              "      <div>\n",
              "<style scoped>\n",
              "    .dataframe tbody tr th:only-of-type {\n",
              "        vertical-align: middle;\n",
              "    }\n",
              "\n",
              "    .dataframe tbody tr th {\n",
              "        vertical-align: top;\n",
              "    }\n",
              "\n",
              "    .dataframe thead th {\n",
              "        text-align: right;\n",
              "    }\n",
              "</style>\n",
              "<table border=\"1\" class=\"dataframe\">\n",
              "  <thead>\n",
              "    <tr style=\"text-align: right;\">\n",
              "      <th></th>\n",
              "      <th>total_bill</th>\n",
              "      <th>tip</th>\n",
              "      <th>sex</th>\n",
              "      <th>smoker</th>\n",
              "      <th>day</th>\n",
              "      <th>time</th>\n",
              "      <th>size</th>\n",
              "    </tr>\n",
              "  </thead>\n",
              "  <tbody>\n",
              "    <tr>\n",
              "      <th>0</th>\n",
              "      <td>16.99</td>\n",
              "      <td>1.01</td>\n",
              "      <td>Female</td>\n",
              "      <td>No</td>\n",
              "      <td>Sun</td>\n",
              "      <td>Dinner</td>\n",
              "      <td>2</td>\n",
              "    </tr>\n",
              "    <tr>\n",
              "      <th>1</th>\n",
              "      <td>10.34</td>\n",
              "      <td>1.66</td>\n",
              "      <td>Male</td>\n",
              "      <td>No</td>\n",
              "      <td>Sun</td>\n",
              "      <td>Dinner</td>\n",
              "      <td>3</td>\n",
              "    </tr>\n",
              "  </tbody>\n",
              "</table>\n",
              "</div>\n",
              "      <button class=\"colab-df-convert\" onclick=\"convertToInteractive('df-7d99e400-f31d-4f67-a570-48f9cf409f40')\"\n",
              "              title=\"Convert this dataframe to an interactive table.\"\n",
              "              style=\"display:none;\">\n",
              "        \n",
              "  <svg xmlns=\"http://www.w3.org/2000/svg\" height=\"24px\"viewBox=\"0 0 24 24\"\n",
              "       width=\"24px\">\n",
              "    <path d=\"M0 0h24v24H0V0z\" fill=\"none\"/>\n",
              "    <path d=\"M18.56 5.44l.94 2.06.94-2.06 2.06-.94-2.06-.94-.94-2.06-.94 2.06-2.06.94zm-11 1L8.5 8.5l.94-2.06 2.06-.94-2.06-.94L8.5 2.5l-.94 2.06-2.06.94zm10 10l.94 2.06.94-2.06 2.06-.94-2.06-.94-.94-2.06-.94 2.06-2.06.94z\"/><path d=\"M17.41 7.96l-1.37-1.37c-.4-.4-.92-.59-1.43-.59-.52 0-1.04.2-1.43.59L10.3 9.45l-7.72 7.72c-.78.78-.78 2.05 0 2.83L4 21.41c.39.39.9.59 1.41.59.51 0 1.02-.2 1.41-.59l7.78-7.78 2.81-2.81c.8-.78.8-2.07 0-2.86zM5.41 20L4 18.59l7.72-7.72 1.47 1.35L5.41 20z\"/>\n",
              "  </svg>\n",
              "      </button>\n",
              "      \n",
              "  <style>\n",
              "    .colab-df-container {\n",
              "      display:flex;\n",
              "      flex-wrap:wrap;\n",
              "      gap: 12px;\n",
              "    }\n",
              "\n",
              "    .colab-df-convert {\n",
              "      background-color: #E8F0FE;\n",
              "      border: none;\n",
              "      border-radius: 50%;\n",
              "      cursor: pointer;\n",
              "      display: none;\n",
              "      fill: #1967D2;\n",
              "      height: 32px;\n",
              "      padding: 0 0 0 0;\n",
              "      width: 32px;\n",
              "    }\n",
              "\n",
              "    .colab-df-convert:hover {\n",
              "      background-color: #E2EBFA;\n",
              "      box-shadow: 0px 1px 2px rgba(60, 64, 67, 0.3), 0px 1px 3px 1px rgba(60, 64, 67, 0.15);\n",
              "      fill: #174EA6;\n",
              "    }\n",
              "\n",
              "    [theme=dark] .colab-df-convert {\n",
              "      background-color: #3B4455;\n",
              "      fill: #D2E3FC;\n",
              "    }\n",
              "\n",
              "    [theme=dark] .colab-df-convert:hover {\n",
              "      background-color: #434B5C;\n",
              "      box-shadow: 0px 1px 3px 1px rgba(0, 0, 0, 0.15);\n",
              "      filter: drop-shadow(0px 1px 2px rgba(0, 0, 0, 0.3));\n",
              "      fill: #FFFFFF;\n",
              "    }\n",
              "  </style>\n",
              "\n",
              "      <script>\n",
              "        const buttonEl =\n",
              "          document.querySelector('#df-7d99e400-f31d-4f67-a570-48f9cf409f40 button.colab-df-convert');\n",
              "        buttonEl.style.display =\n",
              "          google.colab.kernel.accessAllowed ? 'block' : 'none';\n",
              "\n",
              "        async function convertToInteractive(key) {\n",
              "          const element = document.querySelector('#df-7d99e400-f31d-4f67-a570-48f9cf409f40');\n",
              "          const dataTable =\n",
              "            await google.colab.kernel.invokeFunction('convertToInteractive',\n",
              "                                                     [key], {});\n",
              "          if (!dataTable) return;\n",
              "\n",
              "          const docLinkHtml = 'Like what you see? Visit the ' +\n",
              "            '<a target=\"_blank\" href=https://colab.research.google.com/notebooks/data_table.ipynb>data table notebook</a>'\n",
              "            + ' to learn more about interactive tables.';\n",
              "          element.innerHTML = '';\n",
              "          dataTable['output_type'] = 'display_data';\n",
              "          await google.colab.output.renderOutput(dataTable, element);\n",
              "          const docLink = document.createElement('div');\n",
              "          docLink.innerHTML = docLinkHtml;\n",
              "          element.appendChild(docLink);\n",
              "        }\n",
              "      </script>\n",
              "    </div>\n",
              "  </div>\n",
              "  "
            ],
            "text/plain": [
              "   total_bill   tip     sex smoker  day    time  size\n",
              "0       16.99  1.01  Female     No  Sun  Dinner     2\n",
              "1       10.34  1.66    Male     No  Sun  Dinner     3"
            ]
          },
          "metadata": {},
          "execution_count": 29
        }
      ]
    },
    {
      "cell_type": "code",
      "source": [
        "ax=sns.regplot(x=\"total_bill\",y=\"tip\",data=tip_df)\n",
        "ax"
      ],
      "metadata": {
        "colab": {
          "base_uri": "https://localhost:8080/",
          "height": 298
        },
        "id": "QCtlYF0aMvF1",
        "outputId": "cff0ab50-5474-4526-ef23-d7c15db3c522"
      },
      "execution_count": null,
      "outputs": [
        {
          "output_type": "execute_result",
          "data": {
            "text/plain": [
              "<matplotlib.axes._subplots.AxesSubplot at 0x7f6edcc1ae50>"
            ]
          },
          "metadata": {},
          "execution_count": 30
        },
        {
          "output_type": "display_data",
          "data": {
            "image/png": "[encoded data removed]",
            "text/plain": [
              "<Figure size 432x288 with 1 Axes>"
            ]
          },
          "metadata": {
            "needs_background": "light"
          }
        }
      ]
    },
    {
      "cell_type": "code",
      "source": [
        "np.corrcoef(tip_df['total_bill'],tip_df['tip'])"
      ],
      "metadata": {
        "colab": {
          "base_uri": "https://localhost:8080/"
        },
        "id": "JDnKfwkfNNPZ",
        "outputId": "aca3aaae-fb58-435f-9b7b-d1809703e641"
      },
      "execution_count": null,
      "outputs": [
        {
          "output_type": "execute_result",
          "data": {
            "text/plain": [
              "array([[1.        , 0.67573411],\n",
              "       [0.67573411, 1.        ]])"
            ]
          },
          "metadata": {},
          "execution_count": 32
        }
      ]
    },
    {
      "cell_type": "code",
      "source": [
        "tip_df.corr()"
      ],
      "metadata": {
        "colab": {
          "base_uri": "https://localhost:8080/",
          "height": 143
        },
        "id": "5CReK91hN36Y",
        "outputId": "bb4d9464-a5d8-4a64-a87e-938dd8698199"
      },
      "execution_count": null,
      "outputs": [
        {
          "output_type": "execute_result",
          "data": {
            "text/html": [
              "\n",
              "  <div id=\"df-52bee1a2-2e2a-4116-bbfd-ed599af83f94\">\n",
              "    <div class=\"colab-df-container\">\n",
              "      <div>\n",
              "<style scoped>\n",
              "    .dataframe tbody tr th:only-of-type {\n",
              "        vertical-align: middle;\n",
              "    }\n",
              "\n",
              "    .dataframe tbody tr th {\n",
              "        vertical-align: top;\n",
              "    }\n",
              "\n",
              "    .dataframe thead th {\n",
              "        text-align: right;\n",
              "    }\n",
              "</style>\n",
              "<table border=\"1\" class=\"dataframe\">\n",
              "  <thead>\n",
              "    <tr style=\"text-align: right;\">\n",
              "      <th></th>\n",
              "      <th>total_bill</th>\n",
              "      <th>tip</th>\n",
              "      <th>size</th>\n",
              "    </tr>\n",
              "  </thead>\n",
              "  <tbody>\n",
              "    <tr>\n",
              "      <th>total_bill</th>\n",
              "      <td>1.000000</td>\n",
              "      <td>0.675734</td>\n",
              "      <td>0.598315</td>\n",
              "    </tr>\n",
              "    <tr>\n",
              "      <th>tip</th>\n",
              "      <td>0.675734</td>\n",
              "      <td>1.000000</td>\n",
              "      <td>0.489299</td>\n",
              "    </tr>\n",
              "    <tr>\n",
              "      <th>size</th>\n",
              "      <td>0.598315</td>\n",
              "      <td>0.489299</td>\n",
              "      <td>1.000000</td>\n",
              "    </tr>\n",
              "  </tbody>\n",
              "</table>\n",
              "</div>\n",
              "      <button class=\"colab-df-convert\" onclick=\"convertToInteractive('df-52bee1a2-2e2a-4116-bbfd-ed599af83f94')\"\n",
              "              title=\"Convert this dataframe to an interactive table.\"\n",
              "              style=\"display:none;\">\n",
              "        \n",
              "  <svg xmlns=\"http://www.w3.org/2000/svg\" height=\"24px\"viewBox=\"0 0 24 24\"\n",
              "       width=\"24px\">\n",
              "    <path d=\"M0 0h24v24H0V0z\" fill=\"none\"/>\n",
              "    <path d=\"M18.56 5.44l.94 2.06.94-2.06 2.06-.94-2.06-.94-.94-2.06-.94 2.06-2.06.94zm-11 1L8.5 8.5l.94-2.06 2.06-.94-2.06-.94L8.5 2.5l-.94 2.06-2.06.94zm10 10l.94 2.06.94-2.06 2.06-.94-2.06-.94-.94-2.06-.94 2.06-2.06.94z\"/><path d=\"M17.41 7.96l-1.37-1.37c-.4-.4-.92-.59-1.43-.59-.52 0-1.04.2-1.43.59L10.3 9.45l-7.72 7.72c-.78.78-.78 2.05 0 2.83L4 21.41c.39.39.9.59 1.41.59.51 0 1.02-.2 1.41-.59l7.78-7.78 2.81-2.81c.8-.78.8-2.07 0-2.86zM5.41 20L4 18.59l7.72-7.72 1.47 1.35L5.41 20z\"/>\n",
              "  </svg>\n",
              "      </button>\n",
              "      \n",
              "  <style>\n",
              "    .colab-df-container {\n",
              "      display:flex;\n",
              "      flex-wrap:wrap;\n",
              "      gap: 12px;\n",
              "    }\n",
              "\n",
              "    .colab-df-convert {\n",
              "      background-color: #E8F0FE;\n",
              "      border: none;\n",
              "      border-radius: 50%;\n",
              "      cursor: pointer;\n",
              "      display: none;\n",
              "      fill: #1967D2;\n",
              "      height: 32px;\n",
              "      padding: 0 0 0 0;\n",
              "      width: 32px;\n",
              "    }\n",
              "\n",
              "    .colab-df-convert:hover {\n",
              "      background-color: #E2EBFA;\n",
              "      box-shadow: 0px 1px 2px rgba(60, 64, 67, 0.3), 0px 1px 3px 1px rgba(60, 64, 67, 0.15);\n",
              "      fill: #174EA6;\n",
              "    }\n",
              "\n",
              "    [theme=dark] .colab-df-convert {\n",
              "      background-color: #3B4455;\n",
              "      fill: #D2E3FC;\n",
              "    }\n",
              "\n",
              "    [theme=dark] .colab-df-convert:hover {\n",
              "      background-color: #434B5C;\n",
              "      box-shadow: 0px 1px 3px 1px rgba(0, 0, 0, 0.15);\n",
              "      filter: drop-shadow(0px 1px 2px rgba(0, 0, 0, 0.3));\n",
              "      fill: #FFFFFF;\n",
              "    }\n",
              "  </style>\n",
              "\n",
              "      <script>\n",
              "        const buttonEl =\n",
              "          document.querySelector('#df-52bee1a2-2e2a-4116-bbfd-ed599af83f94 button.colab-df-convert');\n",
              "        buttonEl.style.display =\n",
              "          google.colab.kernel.accessAllowed ? 'block' : 'none';\n",
              "\n",
              "        async function convertToInteractive(key) {\n",
              "          const element = document.querySelector('#df-52bee1a2-2e2a-4116-bbfd-ed599af83f94');\n",
              "          const dataTable =\n",
              "            await google.colab.kernel.invokeFunction('convertToInteractive',\n",
              "                                                     [key], {});\n",
              "          if (!dataTable) return;\n",
              "\n",
              "          const docLinkHtml = 'Like what you see? Visit the ' +\n",
              "            '<a target=\"_blank\" href=https://colab.research.google.com/notebooks/data_table.ipynb>data table notebook</a>'\n",
              "            + ' to learn more about interactive tables.';\n",
              "          element.innerHTML = '';\n",
              "          dataTable['output_type'] = 'display_data';\n",
              "          await google.colab.output.renderOutput(dataTable, element);\n",
              "          const docLink = document.createElement('div');\n",
              "          docLink.innerHTML = docLinkHtml;\n",
              "          element.appendChild(docLink);\n",
              "        }\n",
              "      </script>\n",
              "    </div>\n",
              "  </div>\n",
              "  "
            ],
            "text/plain": [
              "            total_bill       tip      size\n",
              "total_bill    1.000000  0.675734  0.598315\n",
              "tip           0.675734  1.000000  0.489299\n",
              "size          0.598315  0.489299  1.000000"
            ]
          },
          "metadata": {},
          "execution_count": 34
        }
      ]
    },
    {
      "cell_type": "code",
      "source": [
        "#visualize the correlation table using heatmap\n",
        "# ax=sns.heatmap(tip_df.corr(),cmap=\"ylgn\")\n",
        "# ax"
      ],
      "metadata": {
        "id": "l2AeuZBLOYYl"
      },
      "execution_count": null,
      "outputs": []
    },
    {
      "cell_type": "markdown",
      "source": [
        "Normal Distribution bell curve"
      ],
      "metadata": {
        "id": "lCT6LNUnb-Cl"
      }
    },
    {
      "cell_type": "code",
      "source": [
        "x=np.linspace(1,5,200)\n",
        "x"
      ],
      "metadata": {
        "colab": {
          "base_uri": "https://localhost:8080/"
        },
        "id": "203SE0c0PDHQ",
        "outputId": "382bba95-b79f-464a-9850-35289c647d73"
      },
      "execution_count": null,
      "outputs": [
        {
          "output_type": "execute_result",
          "data": {
            "text/plain": [
              "array([1.        , 1.0201005 , 1.04020101, 1.06030151, 1.08040201,\n",
              "       1.10050251, 1.12060302, 1.14070352, 1.16080402, 1.18090452,\n",
              "       1.20100503, 1.22110553, 1.24120603, 1.26130653, 1.28140704,\n",
              "       1.30150754, 1.32160804, 1.34170854, 1.36180905, 1.38190955,\n",
              "       1.40201005, 1.42211055, 1.44221106, 1.46231156, 1.48241206,\n",
              "       1.50251256, 1.52261307, 1.54271357, 1.56281407, 1.58291457,\n",
              "       1.60301508, 1.62311558, 1.64321608, 1.66331658, 1.68341709,\n",
              "       1.70351759, 1.72361809, 1.74371859, 1.7638191 , 1.7839196 ,\n",
              "       1.8040201 , 1.8241206 , 1.84422111, 1.86432161, 1.88442211,\n",
              "       1.90452261, 1.92462312, 1.94472362, 1.96482412, 1.98492462,\n",
              "       2.00502513, 2.02512563, 2.04522613, 2.06532663, 2.08542714,\n",
              "       2.10552764, 2.12562814, 2.14572864, 2.16582915, 2.18592965,\n",
              "       2.20603015, 2.22613065, 2.24623116, 2.26633166, 2.28643216,\n",
              "       2.30653266, 2.32663317, 2.34673367, 2.36683417, 2.38693467,\n",
              "       2.40703518, 2.42713568, 2.44723618, 2.46733668, 2.48743719,\n",
              "       2.50753769, 2.52763819, 2.54773869, 2.5678392 , 2.5879397 ,\n",
              "       2.6080402 , 2.6281407 , 2.64824121, 2.66834171, 2.68844221,\n",
              "       2.70854271, 2.72864322, 2.74874372, 2.76884422, 2.78894472,\n",
              "       2.80904523, 2.82914573, 2.84924623, 2.86934673, 2.88944724,\n",
              "       2.90954774, 2.92964824, 2.94974874, 2.96984925, 2.98994975,\n",
              "       3.01005025, 3.03015075, 3.05025126, 3.07035176, 3.09045226,\n",
              "       3.11055276, 3.13065327, 3.15075377, 3.17085427, 3.19095477,\n",
              "       3.21105528, 3.23115578, 3.25125628, 3.27135678, 3.29145729,\n",
              "       3.31155779, 3.33165829, 3.35175879, 3.3718593 , 3.3919598 ,\n",
              "       3.4120603 , 3.4321608 , 3.45226131, 3.47236181, 3.49246231,\n",
              "       3.51256281, 3.53266332, 3.55276382, 3.57286432, 3.59296482,\n",
              "       3.61306533, 3.63316583, 3.65326633, 3.67336683, 3.69346734,\n",
              "       3.71356784, 3.73366834, 3.75376884, 3.77386935, 3.79396985,\n",
              "       3.81407035, 3.83417085, 3.85427136, 3.87437186, 3.89447236,\n",
              "       3.91457286, 3.93467337, 3.95477387, 3.97487437, 3.99497487,\n",
              "       4.01507538, 4.03517588, 4.05527638, 4.07537688, 4.09547739,\n",
              "       4.11557789, 4.13567839, 4.15577889, 4.1758794 , 4.1959799 ,\n",
              "       4.2160804 , 4.2361809 , 4.25628141, 4.27638191, 4.29648241,\n",
              "       4.31658291, 4.33668342, 4.35678392, 4.37688442, 4.39698492,\n",
              "       4.41708543, 4.43718593, 4.45728643, 4.47738693, 4.49748744,\n",
              "       4.51758794, 4.53768844, 4.55778894, 4.57788945, 4.59798995,\n",
              "       4.61809045, 4.63819095, 4.65829146, 4.67839196, 4.69849246,\n",
              "       4.71859296, 4.73869347, 4.75879397, 4.77889447, 4.79899497,\n",
              "       4.81909548, 4.83919598, 4.85929648, 4.87939698, 4.89949749,\n",
              "       4.91959799, 4.93969849, 4.95979899, 4.9798995 , 5.        ])"
            ]
          },
          "metadata": {},
          "execution_count": 42
        }
      ]
    },
    {
      "cell_type": "code",
      "source": [
        "len(x)"
      ],
      "metadata": {
        "colab": {
          "base_uri": "https://localhost:8080/"
        },
        "id": "WBChKJmfeNgN",
        "outputId": "5a05217e-1e51-45cb-c070-0b40c59d3e8f"
      },
      "execution_count": null,
      "outputs": [
        {
          "output_type": "execute_result",
          "data": {
            "text/plain": [
              "200"
            ]
          },
          "metadata": {},
          "execution_count": 43
        }
      ]
    },
    {
      "cell_type": "markdown",
      "source": [
        "Probability density"
      ],
      "metadata": {
        "id": "9dq4j5JleV26"
      }
    },
    {
      "cell_type": "code",
      "source": [
        "def  normal_dist(x,mu,sigma):\n",
        "  prob_density=1/(sigma*np.sqrt(2*np.pi))*np.exp(-(x-mu)**2/(2*sigma**2))\n",
        "  return prob_density"
      ],
      "metadata": {
        "id": "YqbF_gGGeTF5"
      },
      "execution_count": null,
      "outputs": []
    },
    {
      "cell_type": "code",
      "source": [
        "mu=np.mean(x)\n",
        "mu"
      ],
      "metadata": {
        "colab": {
          "base_uri": "https://localhost:8080/"
        },
        "id": "Inxiz5VgfvQ1",
        "outputId": "14f3fe65-82fc-4a37-fd97-b69c2fd618a9"
      },
      "execution_count": null,
      "outputs": [
        {
          "output_type": "execute_result",
          "data": {
            "text/plain": [
              "3.0"
            ]
          },
          "metadata": {},
          "execution_count": 49
        }
      ]
    },
    {
      "cell_type": "code",
      "source": [
        "sd=np.std(x)\n",
        "sd"
      ],
      "metadata": {
        "colab": {
          "base_uri": "https://localhost:8080/"
        },
        "id": "pQdGM-QMf2tq",
        "outputId": "4575439e-c924-471b-e3a1-9d05f406af9c"
      },
      "execution_count": null,
      "outputs": [
        {
          "output_type": "execute_result",
          "data": {
            "text/plain": [
              "1.160488547268653"
            ]
          },
          "metadata": {},
          "execution_count": 46
        }
      ]
    },
    {
      "cell_type": "code",
      "source": [
        "sigma=np.std(x)\n",
        "sigma"
      ],
      "metadata": {
        "colab": {
          "base_uri": "https://localhost:8080/"
        },
        "id": "eK4lWSe3hQ8U",
        "outputId": "b43016d2-0c6d-4d4b-df25-9292ee1bc614"
      },
      "execution_count": null,
      "outputs": [
        {
          "output_type": "execute_result",
          "data": {
            "text/plain": [
              "1.160488547268653"
            ]
          },
          "metadata": {},
          "execution_count": 50
        }
      ]
    },
    {
      "cell_type": "code",
      "source": [
        "#apply functionn to the data\n",
        "density=normal_dist(x,mu,sigma)\n",
        "density"
      ],
      "metadata": {
        "colab": {
          "base_uri": "https://localhost:8080/"
        },
        "id": "mRFClsGpgLB0",
        "outputId": "b508ff07-ca9c-417b-cc77-6e7a8f248972"
      },
      "execution_count": null,
      "outputs": [
        {
          "output_type": "execute_result",
          "data": {
            "text/plain": [
              "array([0.07785912, 0.08020628, 0.08259941, 0.08503843, 0.08752321,\n",
              "       0.09005357, 0.09262929, 0.0952501 , 0.09791569, 0.10062568,\n",
              "       0.10337965, 0.10617714, 0.10901761, 0.1119005 , 0.11482517,\n",
              "       0.11779094, 0.12079707, 0.12384275, 0.12692714, 0.13004933,\n",
              "       0.13320835, 0.13640318, 0.13963273, 0.14289588, 0.14619141,\n",
              "       0.14951808, 0.15287459, 0.15625956, 0.15967157, 0.16310914,\n",
              "       0.16657073, 0.17005477, 0.1735596 , 0.17708354, 0.18062482,\n",
              "       0.18418166, 0.18775221, 0.19133456, 0.19492678, 0.19852687,\n",
              "       0.2021328 , 0.20574249, 0.20935383, 0.21296465, 0.21657277,\n",
              "       0.22017596, 0.22377195, 0.22735845, 0.23093314, 0.23449367,\n",
              "       0.23803768, 0.24156277, 0.24506653, 0.24854653, 0.25200033,\n",
              "       0.25542549, 0.25881954, 0.26218003, 0.26550448, 0.26879043,\n",
              "       0.27203543, 0.27523702, 0.27839275, 0.2815002 , 0.28455696,\n",
              "       0.28756062, 0.29050883, 0.29339922, 0.29622949, 0.29899734,\n",
              "       0.30170053, 0.30433684, 0.3069041 , 0.30940018, 0.311823  ,\n",
              "       0.31417053, 0.31644077, 0.31863182, 0.3207418 , 0.3227689 ,\n",
              "       0.32471139, 0.32656757, 0.32833585, 0.33001468, 0.3316026 ,\n",
              "       0.33309821, 0.3345002 , 0.33580733, 0.33701845, 0.33813247,\n",
              "       0.33914842, 0.34006538, 0.34088254, 0.34159916, 0.34221461,\n",
              "       0.34272833, 0.34313986, 0.34344883, 0.34365497, 0.34375808,\n",
              "       0.34375808, 0.34365497, 0.34344883, 0.34313986, 0.34272833,\n",
              "       0.34221461, 0.34159916, 0.34088254, 0.34006538, 0.33914842,\n",
              "       0.33813247, 0.33701845, 0.33580733, 0.3345002 , 0.33309821,\n",
              "       0.3316026 , 0.33001468, 0.32833585, 0.32656757, 0.32471139,\n",
              "       0.3227689 , 0.3207418 , 0.31863182, 0.31644077, 0.31417053,\n",
              "       0.311823  , 0.30940018, 0.3069041 , 0.30433684, 0.30170053,\n",
              "       0.29899734, 0.29622949, 0.29339922, 0.29050883, 0.28756062,\n",
              "       0.28455696, 0.2815002 , 0.27839275, 0.27523702, 0.27203543,\n",
              "       0.26879043, 0.26550448, 0.26218003, 0.25881954, 0.25542549,\n",
              "       0.25200033, 0.24854653, 0.24506653, 0.24156277, 0.23803768,\n",
              "       0.23449367, 0.23093314, 0.22735845, 0.22377195, 0.22017596,\n",
              "       0.21657277, 0.21296465, 0.20935383, 0.20574249, 0.2021328 ,\n",
              "       0.19852687, 0.19492678, 0.19133456, 0.18775221, 0.18418166,\n",
              "       0.18062482, 0.17708354, 0.1735596 , 0.17005477, 0.16657073,\n",
              "       0.16310914, 0.15967157, 0.15625956, 0.15287459, 0.14951808,\n",
              "       0.14619141, 0.14289588, 0.13963273, 0.13640318, 0.13320835,\n",
              "       0.13004933, 0.12692714, 0.12384275, 0.12079707, 0.11779094,\n",
              "       0.11482517, 0.1119005 , 0.10901761, 0.10617714, 0.10337965,\n",
              "       0.10062568, 0.09791569, 0.0952501 , 0.09262929, 0.09005357,\n",
              "       0.08752321, 0.08503843, 0.08259941, 0.08020628, 0.07785912])"
            ]
          },
          "metadata": {},
          "execution_count": 52
        }
      ]
    },
    {
      "cell_type": "code",
      "source": [
        "len(density)"
      ],
      "metadata": {
        "colab": {
          "base_uri": "https://localhost:8080/"
        },
        "id": "HHoBPohfgw1U",
        "outputId": "62e4e676-3110-4fdc-93db-7d38851fd3c7"
      },
      "execution_count": null,
      "outputs": [
        {
          "output_type": "execute_result",
          "data": {
            "text/plain": [
              "200"
            ]
          },
          "metadata": {},
          "execution_count": 53
        }
      ]
    },
    {
      "cell_type": "code",
      "source": [
        "plt.plot(x,density)\n",
        "plt.show()"
      ],
      "metadata": {
        "colab": {
          "base_uri": "https://localhost:8080/",
          "height": 265
        },
        "id": "BFnPI27uiCXU",
        "outputId": "272c9997-4d09-4951-e1a0-1685ec657568"
      },
      "execution_count": null,
      "outputs": [
        {
          "output_type": "display_data",
          "data": {
            "image/png": "[encoded data removed]",
            "text/plain": [
              "<Figure size 432x288 with 1 Axes>"
            ]
          },
          "metadata": {
            "needs_background": "light"
          }
        }
      ]
    },
    {
      "cell_type": "code",
      "source": [
        ""
      ],
      "metadata": {
        "id": "SqSI6BRKioeW"
      },
      "execution_count": null,
      "outputs": []
    }
  ]
}