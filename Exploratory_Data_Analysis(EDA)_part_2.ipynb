{
  "nbformat": 4,
  "nbformat_minor": 0,
  "metadata": {
    "colab": {
      "name": "Exploratory Data Analysis(EDA)  part 2",
      "provenance": []
    },
    "kernelspec": {
      "name": "python3",
      "display_name": "Python 3"
    },
    "language_info": {
      "name": "python"
    }
  },
  "cells": [
    {
      "cell_type": "code",
      "execution_count": null,
      "metadata": {
        "id": "kYrmiLV9dwzd"
      },
      "outputs": [],
      "source": [
        "import  numpy as np\n",
        "import pandas as pd\n",
        "import matplotlib.pyplot as plt\n",
        "import  seaborn as sns"
      ]
    },
    {
      "cell_type": "markdown",
      "source": [
        "Quartiles and inquartiles:\n",
        "Quartiles:\n",
        "1st quartile  seperate 25% of data from the highest 75%.\n",
        "2nd quartile  seperate 50% of data from the highest 50%.\n",
        "3rd quartile  seperate 75% data from the 25% .\n",
        "IQR=Q3-Q1\n",
        "use for boxplot,helps to give centeral tendency of the data.\n",
        "\n",
        "\n"
      ],
      "metadata": {
        "id": "xpTsIM1seY0b"
      }
    },
    {
      "cell_type": "code",
      "source": [
        "x=np.array([10,11,13,14,15,18,22,10,16,19,1000])\n",
        "x"
      ],
      "metadata": {
        "id": "ysE1nprFeMcR"
      },
      "execution_count": null,
      "outputs": []
    },
    {
      "cell_type": "code",
      "source": [
        "np.percentile(x,[25,50,75])"
      ],
      "metadata": {
        "id": "CaJhtVx6icqV"
      },
      "execution_count": null,
      "outputs": []
    },
    {
      "cell_type": "code",
      "source": [
        "q1,q2,q3=tuple(np.percentile(x,[25,50,75]))"
      ],
      "metadata": {
        "id": "iI_9jnF-ikLp"
      },
      "execution_count": null,
      "outputs": []
    },
    {
      "cell_type": "code",
      "source": [
        "q1"
      ],
      "metadata": {
        "id": "YOo9ZGryjR33"
      },
      "execution_count": null,
      "outputs": []
    },
    {
      "cell_type": "code",
      "source": [
        "q2"
      ],
      "metadata": {
        "id": "gHQqzrjFjTaw"
      },
      "execution_count": null,
      "outputs": []
    },
    {
      "cell_type": "code",
      "source": [
        "q3"
      ],
      "metadata": {
        "id": "xmCyLp1wjVpk"
      },
      "execution_count": null,
      "outputs": []
    },
    {
      "cell_type": "markdown",
      "source": [
        "How to Find a outliers"
      ],
      "metadata": {
        "id": "cxnPr1OPjaUO"
      }
    },
    {
      "cell_type": "code",
      "source": [
        "iqr=q3-q1\n",
        "iqr"
      ],
      "metadata": {
        "id": "MDKfC44fjXqZ"
      },
      "execution_count": null,
      "outputs": []
    },
    {
      "cell_type": "markdown",
      "source": [
        "Outliers Formula"
      ],
      "metadata": {
        "id": "Dac8DHeYktAo"
      }
    },
    {
      "cell_type": "code",
      "source": [
        "filter=q3+1.5*iqr\n",
        "filter"
      ],
      "metadata": {
        "id": "Lxrhr8qzjlto"
      },
      "execution_count": null,
      "outputs": []
    },
    {
      "cell_type": "code",
      "source": [
        "x>filter"
      ],
      "metadata": {
        "id": "uKcSsRtKj1fZ"
      },
      "execution_count": null,
      "outputs": []
    },
    {
      "cell_type": "code",
      "source": [
        "x[x>filter]"
      ],
      "metadata": {
        "id": "LwUjrmtij8p5"
      },
      "execution_count": null,
      "outputs": []
    },
    {
      "cell_type": "markdown",
      "source": [
        "Data Visualization"
      ],
      "metadata": {
        "id": "jRSSGqYBlCCF"
      }
    },
    {
      "cell_type": "markdown",
      "source": [
        "Bar Chart"
      ],
      "metadata": {
        "id": "6GQ-7rkGlGNp"
      }
    },
    {
      "cell_type": "markdown",
      "source": [
        "Fixed number of value is known as categorical data"
      ],
      "metadata": {
        "id": "X4I8zrG_lmon"
      }
    },
    {
      "cell_type": "code",
      "source": [
        "import seaborn as sns\n",
        "sns.set_style('darkgrid')"
      ],
      "metadata": {
        "id": "hBmfhBWikIuh"
      },
      "execution_count": null,
      "outputs": []
    },
    {
      "cell_type": "code",
      "source": [
        "d={'Apple':100,'mango':500,'grapes':300}\n",
        "d"
      ],
      "metadata": {
        "id": "m8VGaURslQCZ"
      },
      "execution_count": null,
      "outputs": []
    },
    {
      "cell_type": "code",
      "source": [
        "labels=d.keys()\n",
        "labels"
      ],
      "metadata": {
        "id": "KHE61lWol6do"
      },
      "execution_count": null,
      "outputs": []
    },
    {
      "cell_type": "code",
      "source": [
        "# values=list(d.keys())\n",
        "# values"
      ],
      "metadata": {
        "id": "hIuOqSyZmIjx"
      },
      "execution_count": null,
      "outputs": []
    },
    {
      "cell_type": "code",
      "source": [
        "values=list(d.values())\n",
        "values"
      ],
      "metadata": {
        "id": "oeDkAmH_nrIL"
      },
      "execution_count": null,
      "outputs": []
    },
    {
      "cell_type": "code",
      "source": [
        "ax=sns.barplot(x=labels,y=values)\n",
        "ax"
      ],
      "metadata": {
        "id": "wFedaYz2mQPI"
      },
      "execution_count": null,
      "outputs": []
    },
    {
      "cell_type": "markdown",
      "source": [
        "Histogram::                                 helps to know the data distributions."
      ],
      "metadata": {
        "id": "GH6c819xm8XY"
      }
    },
    {
      "cell_type": "code",
      "source": [
        "weights=np.array([54,53,42,49,41,45,69,63,62,72,64,67,81,86,101,102,103,108,97,98,126,129,123,119,117,124])"
      ],
      "metadata": {
        "id": "sVZse6l3mfoo"
      },
      "execution_count": null,
      "outputs": []
    },
    {
      "cell_type": "code",
      "source": [
        "weights"
      ],
      "metadata": {
        "id": "faz30Holq2bV"
      },
      "execution_count": null,
      "outputs": []
    },
    {
      "cell_type": "code",
      "source": [
        "np.percentile(weights,[25,50,75])"
      ],
      "metadata": {
        "id": "wdgwLjX6q33-"
      },
      "execution_count": null,
      "outputs": []
    },
    {
      "cell_type": "markdown",
      "source": [
        ""
      ],
      "metadata": {
        "id": "FUwtB2R4pHTx"
      }
    },
    {
      "cell_type": "code",
      "source": [
        "np.mean(weights)"
      ],
      "metadata": {
        "id": "ikj3SUM_q_C0"
      },
      "execution_count": null,
      "outputs": []
    },
    {
      "cell_type": "code",
      "source": [
        "bins=np.ceil(np.log(len(weights))/np.log(2))\n",
        "bins"
      ],
      "metadata": {
        "colab": {
          "base_uri": "https://localhost:8080/",
          "height": 182
        },
        "id": "XguM7h-orB5f",
        "outputId": "4ee8442a-1e81-4df1-b56e-ff45aa2f4b43"
      },
      "execution_count": null,
      "outputs": [
        {
          "output_type": "error",
          "ename": "NameError",
          "evalue": "ignored",
          "traceback": [
            "\u001b[0;31m---------------------------------------------------------------------------\u001b[0m",
            "\u001b[0;31mNameError\u001b[0m                                 Traceback (most recent call last)",
            "\u001b[0;32m<ipython-input-1-39fdb329f1dc>\u001b[0m in \u001b[0;36m<module>\u001b[0;34m()\u001b[0m\n\u001b[0;32m----> 1\u001b[0;31m \u001b[0mbins\u001b[0m\u001b[0;34m=\u001b[0m\u001b[0mnp\u001b[0m\u001b[0;34m.\u001b[0m\u001b[0mceil\u001b[0m\u001b[0;34m(\u001b[0m\u001b[0mnp\u001b[0m\u001b[0;34m.\u001b[0m\u001b[0mlog\u001b[0m\u001b[0;34m(\u001b[0m\u001b[0mlen\u001b[0m\u001b[0;34m(\u001b[0m\u001b[0mweights\u001b[0m\u001b[0;34m)\u001b[0m\u001b[0;34m)\u001b[0m\u001b[0;34m/\u001b[0m\u001b[0mnp\u001b[0m\u001b[0;34m.\u001b[0m\u001b[0mlog\u001b[0m\u001b[0;34m(\u001b[0m\u001b[0;36m2\u001b[0m\u001b[0;34m)\u001b[0m\u001b[0;34m)\u001b[0m\u001b[0;34m\u001b[0m\u001b[0;34m\u001b[0m\u001b[0m\n\u001b[0m\u001b[1;32m      2\u001b[0m \u001b[0mbins\u001b[0m\u001b[0;34m\u001b[0m\u001b[0;34m\u001b[0m\u001b[0m\n",
            "\u001b[0;31mNameError\u001b[0m: name 'np' is not defined"
          ]
        }
      ]
    },
    {
      "cell_type": "code",
      "source": [
        "ax=sns.histplot(weights)\n",
        "ax"
      ],
      "metadata": {
        "id": "jzbgARA0rIkk"
      },
      "execution_count": null,
      "outputs": []
    },
    {
      "cell_type": "code",
      "source": [
        "ax1=sns.histplot(weights,bins=int(bins))\n",
        "ax1"
      ],
      "metadata": {
        "id": "2ZLV-I2nrRAY"
      },
      "execution_count": null,
      "outputs": []
    },
    {
      "cell_type": "code",
      "source": [
        ""
      ],
      "metadata": {
        "id": "MCDCk8XQrdHj"
      },
      "execution_count": null,
      "outputs": []
    }
  ]
}